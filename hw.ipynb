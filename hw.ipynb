{
 "cells": [
  {
   "cell_type": "code",
   "execution_count": 20,
   "id": "b7d4a381",
   "metadata": {},
   "outputs": [],
   "source": [
    "import pandas as pd"
   ]
  },
  {
   "cell_type": "code",
   "execution_count": 21,
   "id": "41efe2ea",
   "metadata": {},
   "outputs": [
    {
     "data": {
      "text/html": [
       "<div>\n",
       "<style scoped>\n",
       "    .dataframe tbody tr th:only-of-type {\n",
       "        vertical-align: middle;\n",
       "    }\n",
       "\n",
       "    .dataframe tbody tr th {\n",
       "        vertical-align: top;\n",
       "    }\n",
       "\n",
       "    .dataframe thead th {\n",
       "        text-align: right;\n",
       "    }\n",
       "</style>\n",
       "<table border=\"1\" class=\"dataframe\">\n",
       "  <thead>\n",
       "    <tr style=\"text-align: right;\">\n",
       "      <th></th>\n",
       "      <th>Year</th>\n",
       "      <th>Population</th>\n",
       "      <th>Yearly % Change</th>\n",
       "      <th>Yearly Change</th>\n",
       "      <th>Migrants (net)</th>\n",
       "      <th>Median Age</th>\n",
       "      <th>Fertility Rate</th>\n",
       "      <th>Density (P/Km²)</th>\n",
       "      <th>Urban Pop %</th>\n",
       "      <th>Urban Population</th>\n",
       "      <th>Country's Share of World Pop</th>\n",
       "      <th>World Population</th>\n",
       "      <th>China Global Rank</th>\n",
       "    </tr>\n",
       "  </thead>\n",
       "  <tbody>\n",
       "    <tr>\n",
       "      <th>0</th>\n",
       "      <td>2020</td>\n",
       "      <td>1439323776</td>\n",
       "      <td>0.39</td>\n",
       "      <td>5540090</td>\n",
       "      <td>-348399</td>\n",
       "      <td>38.4</td>\n",
       "      <td>1.69</td>\n",
       "      <td>153</td>\n",
       "      <td>60.8</td>\n",
       "      <td>875075919</td>\n",
       "      <td>18.47</td>\n",
       "      <td>7794798739</td>\n",
       "      <td>1</td>\n",
       "    </tr>\n",
       "    <tr>\n",
       "      <th>1</th>\n",
       "      <td>2019</td>\n",
       "      <td>1433783686</td>\n",
       "      <td>0.43</td>\n",
       "      <td>6135900</td>\n",
       "      <td>-348399</td>\n",
       "      <td>37.0</td>\n",
       "      <td>1.65</td>\n",
       "      <td>153</td>\n",
       "      <td>59.7</td>\n",
       "      <td>856409297</td>\n",
       "      <td>18.59</td>\n",
       "      <td>7713468100</td>\n",
       "      <td>1</td>\n",
       "    </tr>\n",
       "    <tr>\n",
       "      <th>2</th>\n",
       "      <td>2018</td>\n",
       "      <td>1427647786</td>\n",
       "      <td>0.47</td>\n",
       "      <td>6625995</td>\n",
       "      <td>-348399</td>\n",
       "      <td>37.0</td>\n",
       "      <td>1.65</td>\n",
       "      <td>152</td>\n",
       "      <td>58.6</td>\n",
       "      <td>837022095</td>\n",
       "      <td>18.71</td>\n",
       "      <td>7631091040</td>\n",
       "      <td>1</td>\n",
       "    </tr>\n",
       "    <tr>\n",
       "      <th>3</th>\n",
       "      <td>2017</td>\n",
       "      <td>1421021791</td>\n",
       "      <td>0.49</td>\n",
       "      <td>6972440</td>\n",
       "      <td>-348399</td>\n",
       "      <td>37.0</td>\n",
       "      <td>1.65</td>\n",
       "      <td>151</td>\n",
       "      <td>57.5</td>\n",
       "      <td>816957613</td>\n",
       "      <td>18.83</td>\n",
       "      <td>7547858925</td>\n",
       "      <td>1</td>\n",
       "    </tr>\n",
       "    <tr>\n",
       "      <th>4</th>\n",
       "      <td>2016</td>\n",
       "      <td>1414049351</td>\n",
       "      <td>0.51</td>\n",
       "      <td>7201481</td>\n",
       "      <td>-348399</td>\n",
       "      <td>37.0</td>\n",
       "      <td>1.65</td>\n",
       "      <td>151</td>\n",
       "      <td>56.3</td>\n",
       "      <td>796289491</td>\n",
       "      <td>18.94</td>\n",
       "      <td>7464022049</td>\n",
       "      <td>1</td>\n",
       "    </tr>\n",
       "    <tr>\n",
       "      <th>5</th>\n",
       "      <td>2015</td>\n",
       "      <td>1406847870</td>\n",
       "      <td>0.55</td>\n",
       "      <td>7607451</td>\n",
       "      <td>-310442</td>\n",
       "      <td>36.7</td>\n",
       "      <td>1.64</td>\n",
       "      <td>150</td>\n",
       "      <td>55.1</td>\n",
       "      <td>775352918</td>\n",
       "      <td>19.06</td>\n",
       "      <td>7379797139</td>\n",
       "      <td>1</td>\n",
       "    </tr>\n",
       "    <tr>\n",
       "      <th>6</th>\n",
       "      <td>2010</td>\n",
       "      <td>1368810615</td>\n",
       "      <td>0.57</td>\n",
       "      <td>7606847</td>\n",
       "      <td>-435677</td>\n",
       "      <td>35.0</td>\n",
       "      <td>1.62</td>\n",
       "      <td>146</td>\n",
       "      <td>48.9</td>\n",
       "      <td>669353557</td>\n",
       "      <td>19.68</td>\n",
       "      <td>6956823603</td>\n",
       "      <td>1</td>\n",
       "    </tr>\n",
       "    <tr>\n",
       "      <th>7</th>\n",
       "      <td>2005</td>\n",
       "      <td>1330776380</td>\n",
       "      <td>0.62</td>\n",
       "      <td>8045123</td>\n",
       "      <td>-393116</td>\n",
       "      <td>32.6</td>\n",
       "      <td>1.61</td>\n",
       "      <td>142</td>\n",
       "      <td>42.2</td>\n",
       "      <td>561983323</td>\n",
       "      <td>20.34</td>\n",
       "      <td>6541907027</td>\n",
       "      <td>1</td>\n",
       "    </tr>\n",
       "    <tr>\n",
       "      <th>8</th>\n",
       "      <td>2000</td>\n",
       "      <td>1290550765</td>\n",
       "      <td>0.79</td>\n",
       "      <td>9926046</td>\n",
       "      <td>-76600</td>\n",
       "      <td>30.0</td>\n",
       "      <td>1.62</td>\n",
       "      <td>137</td>\n",
       "      <td>35.7</td>\n",
       "      <td>460377048</td>\n",
       "      <td>21.01</td>\n",
       "      <td>6143493823</td>\n",
       "      <td>1</td>\n",
       "    </tr>\n",
       "    <tr>\n",
       "      <th>9</th>\n",
       "      <td>1995</td>\n",
       "      <td>1240920535</td>\n",
       "      <td>1.07</td>\n",
       "      <td>12807372</td>\n",
       "      <td>-155996</td>\n",
       "      <td>27.4</td>\n",
       "      <td>1.83</td>\n",
       "      <td>132</td>\n",
       "      <td>30.9</td>\n",
       "      <td>383901711</td>\n",
       "      <td>21.60</td>\n",
       "      <td>5744212979</td>\n",
       "      <td>1</td>\n",
       "    </tr>\n",
       "    <tr>\n",
       "      <th>10</th>\n",
       "      <td>1990</td>\n",
       "      <td>1176883674</td>\n",
       "      <td>1.82</td>\n",
       "      <td>20258863</td>\n",
       "      <td>-86330</td>\n",
       "      <td>24.9</td>\n",
       "      <td>2.73</td>\n",
       "      <td>125</td>\n",
       "      <td>26.3</td>\n",
       "      <td>310022147</td>\n",
       "      <td>22.09</td>\n",
       "      <td>5327231061</td>\n",
       "      <td>1</td>\n",
       "    </tr>\n",
       "    <tr>\n",
       "      <th>11</th>\n",
       "      <td>1985</td>\n",
       "      <td>1075589361</td>\n",
       "      <td>1.47</td>\n",
       "      <td>15100025</td>\n",
       "      <td>-40000</td>\n",
       "      <td>23.5</td>\n",
       "      <td>2.52</td>\n",
       "      <td>115</td>\n",
       "      <td>22.8</td>\n",
       "      <td>244946241</td>\n",
       "      <td>22.08</td>\n",
       "      <td>4870921740</td>\n",
       "      <td>1</td>\n",
       "    </tr>\n",
       "    <tr>\n",
       "      <th>12</th>\n",
       "      <td>1980</td>\n",
       "      <td>1000089235</td>\n",
       "      <td>1.55</td>\n",
       "      <td>14769670</td>\n",
       "      <td>-9401</td>\n",
       "      <td>21.9</td>\n",
       "      <td>3.01</td>\n",
       "      <td>107</td>\n",
       "      <td>19.2</td>\n",
       "      <td>192392094</td>\n",
       "      <td>22.43</td>\n",
       "      <td>4458003514</td>\n",
       "      <td>1</td>\n",
       "    </tr>\n",
       "    <tr>\n",
       "      <th>13</th>\n",
       "      <td>1975</td>\n",
       "      <td>926240885</td>\n",
       "      <td>2.28</td>\n",
       "      <td>19727898</td>\n",
       "      <td>-221096</td>\n",
       "      <td>20.3</td>\n",
       "      <td>4.85</td>\n",
       "      <td>99</td>\n",
       "      <td>17.3</td>\n",
       "      <td>160244444</td>\n",
       "      <td>22.70</td>\n",
       "      <td>4079480606</td>\n",
       "      <td>1</td>\n",
       "    </tr>\n",
       "    <tr>\n",
       "      <th>14</th>\n",
       "      <td>1970</td>\n",
       "      <td>827601394</td>\n",
       "      <td>2.70</td>\n",
       "      <td>20676485</td>\n",
       "      <td>-32000</td>\n",
       "      <td>19.3</td>\n",
       "      <td>6.30</td>\n",
       "      <td>88</td>\n",
       "      <td>17.3</td>\n",
       "      <td>143513192</td>\n",
       "      <td>22.36</td>\n",
       "      <td>3700437046</td>\n",
       "      <td>1</td>\n",
       "    </tr>\n",
       "    <tr>\n",
       "      <th>15</th>\n",
       "      <td>1965</td>\n",
       "      <td>724218968</td>\n",
       "      <td>1.86</td>\n",
       "      <td>12762182</td>\n",
       "      <td>-225145</td>\n",
       "      <td>19.8</td>\n",
       "      <td>6.15</td>\n",
       "      <td>77</td>\n",
       "      <td>18.0</td>\n",
       "      <td>130684595</td>\n",
       "      <td>21.69</td>\n",
       "      <td>3339583597</td>\n",
       "      <td>1</td>\n",
       "    </tr>\n",
       "    <tr>\n",
       "      <th>16</th>\n",
       "      <td>1960</td>\n",
       "      <td>660408056</td>\n",
       "      <td>1.53</td>\n",
       "      <td>9633300</td>\n",
       "      <td>-11900</td>\n",
       "      <td>21.3</td>\n",
       "      <td>5.48</td>\n",
       "      <td>70</td>\n",
       "      <td>16.1</td>\n",
       "      <td>106561743</td>\n",
       "      <td>21.76</td>\n",
       "      <td>3034949748</td>\n",
       "      <td>1</td>\n",
       "    </tr>\n",
       "    <tr>\n",
       "      <th>17</th>\n",
       "      <td>1955</td>\n",
       "      <td>612241554</td>\n",
       "      <td>2.00</td>\n",
       "      <td>11564456</td>\n",
       "      <td>-51205</td>\n",
       "      <td>22.2</td>\n",
       "      <td>6.11</td>\n",
       "      <td>65</td>\n",
       "      <td>13.8</td>\n",
       "      <td>84639825</td>\n",
       "      <td>22.08</td>\n",
       "      <td>2773019936</td>\n",
       "      <td>1</td>\n",
       "    </tr>\n",
       "  </tbody>\n",
       "</table>\n",
       "</div>"
      ],
      "text/plain": [
       "    Year  Population  Yearly % Change  Yearly Change  Migrants (net)  \\\n",
       "0   2020  1439323776             0.39        5540090         -348399   \n",
       "1   2019  1433783686             0.43        6135900         -348399   \n",
       "2   2018  1427647786             0.47        6625995         -348399   \n",
       "3   2017  1421021791             0.49        6972440         -348399   \n",
       "4   2016  1414049351             0.51        7201481         -348399   \n",
       "5   2015  1406847870             0.55        7607451         -310442   \n",
       "6   2010  1368810615             0.57        7606847         -435677   \n",
       "7   2005  1330776380             0.62        8045123         -393116   \n",
       "8   2000  1290550765             0.79        9926046          -76600   \n",
       "9   1995  1240920535             1.07       12807372         -155996   \n",
       "10  1990  1176883674             1.82       20258863          -86330   \n",
       "11  1985  1075589361             1.47       15100025          -40000   \n",
       "12  1980  1000089235             1.55       14769670           -9401   \n",
       "13  1975   926240885             2.28       19727898         -221096   \n",
       "14  1970   827601394             2.70       20676485          -32000   \n",
       "15  1965   724218968             1.86       12762182         -225145   \n",
       "16  1960   660408056             1.53        9633300          -11900   \n",
       "17  1955   612241554             2.00       11564456          -51205   \n",
       "\n",
       "    Median Age  Fertility Rate  Density (P/Km²)  Urban Pop %  \\\n",
       "0         38.4            1.69              153         60.8   \n",
       "1         37.0            1.65              153         59.7   \n",
       "2         37.0            1.65              152         58.6   \n",
       "3         37.0            1.65              151         57.5   \n",
       "4         37.0            1.65              151         56.3   \n",
       "5         36.7            1.64              150         55.1   \n",
       "6         35.0            1.62              146         48.9   \n",
       "7         32.6            1.61              142         42.2   \n",
       "8         30.0            1.62              137         35.7   \n",
       "9         27.4            1.83              132         30.9   \n",
       "10        24.9            2.73              125         26.3   \n",
       "11        23.5            2.52              115         22.8   \n",
       "12        21.9            3.01              107         19.2   \n",
       "13        20.3            4.85               99         17.3   \n",
       "14        19.3            6.30               88         17.3   \n",
       "15        19.8            6.15               77         18.0   \n",
       "16        21.3            5.48               70         16.1   \n",
       "17        22.2            6.11               65         13.8   \n",
       "\n",
       "    Urban Population  Country's Share of World Pop  World Population  \\\n",
       "0          875075919                         18.47        7794798739   \n",
       "1          856409297                         18.59        7713468100   \n",
       "2          837022095                         18.71        7631091040   \n",
       "3          816957613                         18.83        7547858925   \n",
       "4          796289491                         18.94        7464022049   \n",
       "5          775352918                         19.06        7379797139   \n",
       "6          669353557                         19.68        6956823603   \n",
       "7          561983323                         20.34        6541907027   \n",
       "8          460377048                         21.01        6143493823   \n",
       "9          383901711                         21.60        5744212979   \n",
       "10         310022147                         22.09        5327231061   \n",
       "11         244946241                         22.08        4870921740   \n",
       "12         192392094                         22.43        4458003514   \n",
       "13         160244444                         22.70        4079480606   \n",
       "14         143513192                         22.36        3700437046   \n",
       "15         130684595                         21.69        3339583597   \n",
       "16         106561743                         21.76        3034949748   \n",
       "17          84639825                         22.08        2773019936   \n",
       "\n",
       "    China Global Rank  \n",
       "0                   1  \n",
       "1                   1  \n",
       "2                   1  \n",
       "3                   1  \n",
       "4                   1  \n",
       "5                   1  \n",
       "6                   1  \n",
       "7                   1  \n",
       "8                   1  \n",
       "9                   1  \n",
       "10                  1  \n",
       "11                  1  \n",
       "12                  1  \n",
       "13                  1  \n",
       "14                  1  \n",
       "15                  1  \n",
       "16                  1  \n",
       "17                  1  "
      ]
     },
     "execution_count": 21,
     "metadata": {},
     "output_type": "execute_result"
    }
   ],
   "source": [
    "df=pd.read_csv(r'C:\\Users\\Nika\\OneDrive\\Desktop\\china_population.csv')\n",
    "df"
   ]
  },
  {
   "cell_type": "markdown",
   "id": "8a4d7a02",
   "metadata": {},
   "source": [
    "# Descriptive statistics"
   ]
  },
  {
   "cell_type": "code",
   "execution_count": 22,
   "id": "8f6a53cb",
   "metadata": {},
   "outputs": [
    {
     "data": {
      "text/plain": [
       "(1154278093.4444444, 1265735650.0, 292216785.8696303)"
      ]
     },
     "execution_count": 22,
     "metadata": {},
     "output_type": "execute_result"
    }
   ],
   "source": [
    "df['Population'].mean(), df['Population'].median(), df['Population'].std()"
   ]
  },
  {
   "cell_type": "code",
   "execution_count": 23,
   "id": "3c26ad2c",
   "metadata": {},
   "outputs": [
    {
     "data": {
      "text/plain": [
       "(-210605.72222222222, -223120.5, 151843.0224524872)"
      ]
     },
     "execution_count": 23,
     "metadata": {},
     "output_type": "execute_result"
    }
   ],
   "source": [
    "df['Migrants (net)'].mean(), df['Migrants (net)'].median(), df['Migrants (net)'].std()"
   ]
  },
  {
   "cell_type": "code",
   "execution_count": 24,
   "id": "85b98175",
   "metadata": {},
   "outputs": [
    {
     "data": {
      "text/plain": [
       "(466984847.3888889, 422139379.5, 304409602.7372602)"
      ]
     },
     "execution_count": 24,
     "metadata": {},
     "output_type": "execute_result"
    }
   ],
   "source": [
    "df['Urban Population'].mean(), df['Urban Population'].median(), df['Urban Population'].std()"
   ]
  },
  {
   "cell_type": "markdown",
   "id": "34f3b50a",
   "metadata": {},
   "source": [
    "I have explored the statistics on population, migrants (net) and urban population mean, median and standard diviation."
   ]
  },
  {
   "cell_type": "markdown",
   "id": "57473d3f",
   "metadata": {},
   "source": [
    "# Data clean up"
   ]
  },
  {
   "cell_type": "code",
   "execution_count": 25,
   "id": "b44773c3",
   "metadata": {},
   "outputs": [
    {
     "data": {
      "text/plain": [
       "Year                            0\n",
       "Population                      0\n",
       "Yearly % Change                 0\n",
       "Yearly Change                   0\n",
       "Migrants (net)                  0\n",
       "Median Age                      0\n",
       "Fertility Rate                  0\n",
       "Density (P/Km²)                 0\n",
       "Urban Pop %                     0\n",
       "Urban Population                0\n",
       "Country's Share of World Pop    0\n",
       "World Population                0\n",
       "China Global Rank               0\n",
       "dtype: int64"
      ]
     },
     "execution_count": 25,
     "metadata": {},
     "output_type": "execute_result"
    }
   ],
   "source": [
    "df.isnull().sum()"
   ]
  },
  {
   "cell_type": "markdown",
   "id": "3687fd67",
   "metadata": {},
   "source": [
    "As you see, there are no NaNs and data seems to be pretty clean in general."
   ]
  },
  {
   "cell_type": "markdown",
   "id": "f345d85d",
   "metadata": {},
   "source": [
    "# Transformation\n"
   ]
  },
  {
   "cell_type": "code",
   "execution_count": 26,
   "id": "8a366c01",
   "metadata": {},
   "outputs": [
    {
     "data": {
      "text/html": [
       "<div>\n",
       "<style scoped>\n",
       "    .dataframe tbody tr th:only-of-type {\n",
       "        vertical-align: middle;\n",
       "    }\n",
       "\n",
       "    .dataframe tbody tr th {\n",
       "        vertical-align: top;\n",
       "    }\n",
       "\n",
       "    .dataframe thead th {\n",
       "        text-align: right;\n",
       "    }\n",
       "</style>\n",
       "<table border=\"1\" class=\"dataframe\">\n",
       "  <thead>\n",
       "    <tr style=\"text-align: right;\">\n",
       "      <th></th>\n",
       "      <th>Year</th>\n",
       "      <th>Population</th>\n",
       "      <th>Yearly % Change</th>\n",
       "      <th>Yearly Change</th>\n",
       "      <th>Migrants (net)</th>\n",
       "      <th>Median Age</th>\n",
       "      <th>Fertility Rate</th>\n",
       "      <th>Density (P/Km²)</th>\n",
       "      <th>Urban Pop %</th>\n",
       "      <th>Urban Population</th>\n",
       "      <th>Country's Share of World Pop</th>\n",
       "      <th>World Population</th>\n",
       "      <th>China Global Rank</th>\n",
       "      <th>Urban index</th>\n",
       "    </tr>\n",
       "  </thead>\n",
       "  <tbody>\n",
       "    <tr>\n",
       "      <th>0</th>\n",
       "      <td>2020</td>\n",
       "      <td>1439323776</td>\n",
       "      <td>0.39</td>\n",
       "      <td>5540090</td>\n",
       "      <td>-348399</td>\n",
       "      <td>38.4</td>\n",
       "      <td>1.69</td>\n",
       "      <td>153</td>\n",
       "      <td>60.8</td>\n",
       "      <td>875075919</td>\n",
       "      <td>18.47</td>\n",
       "      <td>7794798739</td>\n",
       "      <td>1</td>\n",
       "      <td>2.516447</td>\n",
       "    </tr>\n",
       "    <tr>\n",
       "      <th>1</th>\n",
       "      <td>2019</td>\n",
       "      <td>1433783686</td>\n",
       "      <td>0.43</td>\n",
       "      <td>6135900</td>\n",
       "      <td>-348399</td>\n",
       "      <td>37.0</td>\n",
       "      <td>1.65</td>\n",
       "      <td>153</td>\n",
       "      <td>59.7</td>\n",
       "      <td>856409297</td>\n",
       "      <td>18.59</td>\n",
       "      <td>7713468100</td>\n",
       "      <td>1</td>\n",
       "      <td>2.562814</td>\n",
       "    </tr>\n",
       "    <tr>\n",
       "      <th>2</th>\n",
       "      <td>2018</td>\n",
       "      <td>1427647786</td>\n",
       "      <td>0.47</td>\n",
       "      <td>6625995</td>\n",
       "      <td>-348399</td>\n",
       "      <td>37.0</td>\n",
       "      <td>1.65</td>\n",
       "      <td>152</td>\n",
       "      <td>58.6</td>\n",
       "      <td>837022095</td>\n",
       "      <td>18.71</td>\n",
       "      <td>7631091040</td>\n",
       "      <td>1</td>\n",
       "      <td>2.593857</td>\n",
       "    </tr>\n",
       "    <tr>\n",
       "      <th>3</th>\n",
       "      <td>2017</td>\n",
       "      <td>1421021791</td>\n",
       "      <td>0.49</td>\n",
       "      <td>6972440</td>\n",
       "      <td>-348399</td>\n",
       "      <td>37.0</td>\n",
       "      <td>1.65</td>\n",
       "      <td>151</td>\n",
       "      <td>57.5</td>\n",
       "      <td>816957613</td>\n",
       "      <td>18.83</td>\n",
       "      <td>7547858925</td>\n",
       "      <td>1</td>\n",
       "      <td>2.626087</td>\n",
       "    </tr>\n",
       "    <tr>\n",
       "      <th>4</th>\n",
       "      <td>2016</td>\n",
       "      <td>1414049351</td>\n",
       "      <td>0.51</td>\n",
       "      <td>7201481</td>\n",
       "      <td>-348399</td>\n",
       "      <td>37.0</td>\n",
       "      <td>1.65</td>\n",
       "      <td>151</td>\n",
       "      <td>56.3</td>\n",
       "      <td>796289491</td>\n",
       "      <td>18.94</td>\n",
       "      <td>7464022049</td>\n",
       "      <td>1</td>\n",
       "      <td>2.682060</td>\n",
       "    </tr>\n",
       "    <tr>\n",
       "      <th>5</th>\n",
       "      <td>2015</td>\n",
       "      <td>1406847870</td>\n",
       "      <td>0.55</td>\n",
       "      <td>7607451</td>\n",
       "      <td>-310442</td>\n",
       "      <td>36.7</td>\n",
       "      <td>1.64</td>\n",
       "      <td>150</td>\n",
       "      <td>55.1</td>\n",
       "      <td>775352918</td>\n",
       "      <td>19.06</td>\n",
       "      <td>7379797139</td>\n",
       "      <td>1</td>\n",
       "      <td>2.722323</td>\n",
       "    </tr>\n",
       "    <tr>\n",
       "      <th>6</th>\n",
       "      <td>2010</td>\n",
       "      <td>1368810615</td>\n",
       "      <td>0.57</td>\n",
       "      <td>7606847</td>\n",
       "      <td>-435677</td>\n",
       "      <td>35.0</td>\n",
       "      <td>1.62</td>\n",
       "      <td>146</td>\n",
       "      <td>48.9</td>\n",
       "      <td>669353557</td>\n",
       "      <td>19.68</td>\n",
       "      <td>6956823603</td>\n",
       "      <td>1</td>\n",
       "      <td>2.985685</td>\n",
       "    </tr>\n",
       "    <tr>\n",
       "      <th>7</th>\n",
       "      <td>2005</td>\n",
       "      <td>1330776380</td>\n",
       "      <td>0.62</td>\n",
       "      <td>8045123</td>\n",
       "      <td>-393116</td>\n",
       "      <td>32.6</td>\n",
       "      <td>1.61</td>\n",
       "      <td>142</td>\n",
       "      <td>42.2</td>\n",
       "      <td>561983323</td>\n",
       "      <td>20.34</td>\n",
       "      <td>6541907027</td>\n",
       "      <td>1</td>\n",
       "      <td>3.364929</td>\n",
       "    </tr>\n",
       "    <tr>\n",
       "      <th>8</th>\n",
       "      <td>2000</td>\n",
       "      <td>1290550765</td>\n",
       "      <td>0.79</td>\n",
       "      <td>9926046</td>\n",
       "      <td>-76600</td>\n",
       "      <td>30.0</td>\n",
       "      <td>1.62</td>\n",
       "      <td>137</td>\n",
       "      <td>35.7</td>\n",
       "      <td>460377048</td>\n",
       "      <td>21.01</td>\n",
       "      <td>6143493823</td>\n",
       "      <td>1</td>\n",
       "      <td>3.837535</td>\n",
       "    </tr>\n",
       "    <tr>\n",
       "      <th>9</th>\n",
       "      <td>1995</td>\n",
       "      <td>1240920535</td>\n",
       "      <td>1.07</td>\n",
       "      <td>12807372</td>\n",
       "      <td>-155996</td>\n",
       "      <td>27.4</td>\n",
       "      <td>1.83</td>\n",
       "      <td>132</td>\n",
       "      <td>30.9</td>\n",
       "      <td>383901711</td>\n",
       "      <td>21.60</td>\n",
       "      <td>5744212979</td>\n",
       "      <td>1</td>\n",
       "      <td>4.271845</td>\n",
       "    </tr>\n",
       "    <tr>\n",
       "      <th>10</th>\n",
       "      <td>1990</td>\n",
       "      <td>1176883674</td>\n",
       "      <td>1.82</td>\n",
       "      <td>20258863</td>\n",
       "      <td>-86330</td>\n",
       "      <td>24.9</td>\n",
       "      <td>2.73</td>\n",
       "      <td>125</td>\n",
       "      <td>26.3</td>\n",
       "      <td>310022147</td>\n",
       "      <td>22.09</td>\n",
       "      <td>5327231061</td>\n",
       "      <td>1</td>\n",
       "      <td>4.752852</td>\n",
       "    </tr>\n",
       "    <tr>\n",
       "      <th>11</th>\n",
       "      <td>1985</td>\n",
       "      <td>1075589361</td>\n",
       "      <td>1.47</td>\n",
       "      <td>15100025</td>\n",
       "      <td>-40000</td>\n",
       "      <td>23.5</td>\n",
       "      <td>2.52</td>\n",
       "      <td>115</td>\n",
       "      <td>22.8</td>\n",
       "      <td>244946241</td>\n",
       "      <td>22.08</td>\n",
       "      <td>4870921740</td>\n",
       "      <td>1</td>\n",
       "      <td>5.043860</td>\n",
       "    </tr>\n",
       "    <tr>\n",
       "      <th>12</th>\n",
       "      <td>1980</td>\n",
       "      <td>1000089235</td>\n",
       "      <td>1.55</td>\n",
       "      <td>14769670</td>\n",
       "      <td>-9401</td>\n",
       "      <td>21.9</td>\n",
       "      <td>3.01</td>\n",
       "      <td>107</td>\n",
       "      <td>19.2</td>\n",
       "      <td>192392094</td>\n",
       "      <td>22.43</td>\n",
       "      <td>4458003514</td>\n",
       "      <td>1</td>\n",
       "      <td>5.572917</td>\n",
       "    </tr>\n",
       "    <tr>\n",
       "      <th>13</th>\n",
       "      <td>1975</td>\n",
       "      <td>926240885</td>\n",
       "      <td>2.28</td>\n",
       "      <td>19727898</td>\n",
       "      <td>-221096</td>\n",
       "      <td>20.3</td>\n",
       "      <td>4.85</td>\n",
       "      <td>99</td>\n",
       "      <td>17.3</td>\n",
       "      <td>160244444</td>\n",
       "      <td>22.70</td>\n",
       "      <td>4079480606</td>\n",
       "      <td>1</td>\n",
       "      <td>5.722543</td>\n",
       "    </tr>\n",
       "    <tr>\n",
       "      <th>14</th>\n",
       "      <td>1970</td>\n",
       "      <td>827601394</td>\n",
       "      <td>2.70</td>\n",
       "      <td>20676485</td>\n",
       "      <td>-32000</td>\n",
       "      <td>19.3</td>\n",
       "      <td>6.30</td>\n",
       "      <td>88</td>\n",
       "      <td>17.3</td>\n",
       "      <td>143513192</td>\n",
       "      <td>22.36</td>\n",
       "      <td>3700437046</td>\n",
       "      <td>1</td>\n",
       "      <td>5.086705</td>\n",
       "    </tr>\n",
       "    <tr>\n",
       "      <th>15</th>\n",
       "      <td>1965</td>\n",
       "      <td>724218968</td>\n",
       "      <td>1.86</td>\n",
       "      <td>12762182</td>\n",
       "      <td>-225145</td>\n",
       "      <td>19.8</td>\n",
       "      <td>6.15</td>\n",
       "      <td>77</td>\n",
       "      <td>18.0</td>\n",
       "      <td>130684595</td>\n",
       "      <td>21.69</td>\n",
       "      <td>3339583597</td>\n",
       "      <td>1</td>\n",
       "      <td>4.277778</td>\n",
       "    </tr>\n",
       "    <tr>\n",
       "      <th>16</th>\n",
       "      <td>1960</td>\n",
       "      <td>660408056</td>\n",
       "      <td>1.53</td>\n",
       "      <td>9633300</td>\n",
       "      <td>-11900</td>\n",
       "      <td>21.3</td>\n",
       "      <td>5.48</td>\n",
       "      <td>70</td>\n",
       "      <td>16.1</td>\n",
       "      <td>106561743</td>\n",
       "      <td>21.76</td>\n",
       "      <td>3034949748</td>\n",
       "      <td>1</td>\n",
       "      <td>4.347826</td>\n",
       "    </tr>\n",
       "    <tr>\n",
       "      <th>17</th>\n",
       "      <td>1955</td>\n",
       "      <td>612241554</td>\n",
       "      <td>2.00</td>\n",
       "      <td>11564456</td>\n",
       "      <td>-51205</td>\n",
       "      <td>22.2</td>\n",
       "      <td>6.11</td>\n",
       "      <td>65</td>\n",
       "      <td>13.8</td>\n",
       "      <td>84639825</td>\n",
       "      <td>22.08</td>\n",
       "      <td>2773019936</td>\n",
       "      <td>1</td>\n",
       "      <td>4.710145</td>\n",
       "    </tr>\n",
       "  </tbody>\n",
       "</table>\n",
       "</div>"
      ],
      "text/plain": [
       "    Year  Population  Yearly % Change  Yearly Change  Migrants (net)  \\\n",
       "0   2020  1439323776             0.39        5540090         -348399   \n",
       "1   2019  1433783686             0.43        6135900         -348399   \n",
       "2   2018  1427647786             0.47        6625995         -348399   \n",
       "3   2017  1421021791             0.49        6972440         -348399   \n",
       "4   2016  1414049351             0.51        7201481         -348399   \n",
       "5   2015  1406847870             0.55        7607451         -310442   \n",
       "6   2010  1368810615             0.57        7606847         -435677   \n",
       "7   2005  1330776380             0.62        8045123         -393116   \n",
       "8   2000  1290550765             0.79        9926046          -76600   \n",
       "9   1995  1240920535             1.07       12807372         -155996   \n",
       "10  1990  1176883674             1.82       20258863          -86330   \n",
       "11  1985  1075589361             1.47       15100025          -40000   \n",
       "12  1980  1000089235             1.55       14769670           -9401   \n",
       "13  1975   926240885             2.28       19727898         -221096   \n",
       "14  1970   827601394             2.70       20676485          -32000   \n",
       "15  1965   724218968             1.86       12762182         -225145   \n",
       "16  1960   660408056             1.53        9633300          -11900   \n",
       "17  1955   612241554             2.00       11564456          -51205   \n",
       "\n",
       "    Median Age  Fertility Rate  Density (P/Km²)  Urban Pop %  \\\n",
       "0         38.4            1.69              153         60.8   \n",
       "1         37.0            1.65              153         59.7   \n",
       "2         37.0            1.65              152         58.6   \n",
       "3         37.0            1.65              151         57.5   \n",
       "4         37.0            1.65              151         56.3   \n",
       "5         36.7            1.64              150         55.1   \n",
       "6         35.0            1.62              146         48.9   \n",
       "7         32.6            1.61              142         42.2   \n",
       "8         30.0            1.62              137         35.7   \n",
       "9         27.4            1.83              132         30.9   \n",
       "10        24.9            2.73              125         26.3   \n",
       "11        23.5            2.52              115         22.8   \n",
       "12        21.9            3.01              107         19.2   \n",
       "13        20.3            4.85               99         17.3   \n",
       "14        19.3            6.30               88         17.3   \n",
       "15        19.8            6.15               77         18.0   \n",
       "16        21.3            5.48               70         16.1   \n",
       "17        22.2            6.11               65         13.8   \n",
       "\n",
       "    Urban Population  Country's Share of World Pop  World Population  \\\n",
       "0          875075919                         18.47        7794798739   \n",
       "1          856409297                         18.59        7713468100   \n",
       "2          837022095                         18.71        7631091040   \n",
       "3          816957613                         18.83        7547858925   \n",
       "4          796289491                         18.94        7464022049   \n",
       "5          775352918                         19.06        7379797139   \n",
       "6          669353557                         19.68        6956823603   \n",
       "7          561983323                         20.34        6541907027   \n",
       "8          460377048                         21.01        6143493823   \n",
       "9          383901711                         21.60        5744212979   \n",
       "10         310022147                         22.09        5327231061   \n",
       "11         244946241                         22.08        4870921740   \n",
       "12         192392094                         22.43        4458003514   \n",
       "13         160244444                         22.70        4079480606   \n",
       "14         143513192                         22.36        3700437046   \n",
       "15         130684595                         21.69        3339583597   \n",
       "16         106561743                         21.76        3034949748   \n",
       "17          84639825                         22.08        2773019936   \n",
       "\n",
       "    China Global Rank  Urban index  \n",
       "0                   1     2.516447  \n",
       "1                   1     2.562814  \n",
       "2                   1     2.593857  \n",
       "3                   1     2.626087  \n",
       "4                   1     2.682060  \n",
       "5                   1     2.722323  \n",
       "6                   1     2.985685  \n",
       "7                   1     3.364929  \n",
       "8                   1     3.837535  \n",
       "9                   1     4.271845  \n",
       "10                  1     4.752852  \n",
       "11                  1     5.043860  \n",
       "12                  1     5.572917  \n",
       "13                  1     5.722543  \n",
       "14                  1     5.086705  \n",
       "15                  1     4.277778  \n",
       "16                  1     4.347826  \n",
       "17                  1     4.710145  "
      ]
     },
     "execution_count": 26,
     "metadata": {},
     "output_type": "execute_result"
    }
   ],
   "source": [
    "df['Urban index']=df['Density (P/Km²)']/df['Urban Pop %']\n",
    "df"
   ]
  },
  {
   "cell_type": "markdown",
   "id": "6397d4d7",
   "metadata": {},
   "source": [
    "I call \"urban index\" density devided by percentage of urban population%. It in some way shows the urbanization of a country."
   ]
  },
  {
   "cell_type": "code",
   "execution_count": 27,
   "id": "183fae26",
   "metadata": {},
   "outputs": [
    {
     "data": {
      "text/html": [
       "<div>\n",
       "<style scoped>\n",
       "    .dataframe tbody tr th:only-of-type {\n",
       "        vertical-align: middle;\n",
       "    }\n",
       "\n",
       "    .dataframe tbody tr th {\n",
       "        vertical-align: top;\n",
       "    }\n",
       "\n",
       "    .dataframe thead th {\n",
       "        text-align: right;\n",
       "    }\n",
       "</style>\n",
       "<table border=\"1\" class=\"dataframe\">\n",
       "  <thead>\n",
       "    <tr style=\"text-align: right;\">\n",
       "      <th></th>\n",
       "      <th>Year</th>\n",
       "      <th>Population</th>\n",
       "      <th>Yearly % Change</th>\n",
       "      <th>Yearly Change</th>\n",
       "      <th>Migrants (net)</th>\n",
       "      <th>Median Age</th>\n",
       "      <th>Fertility Rate</th>\n",
       "      <th>Density (P/Km²)</th>\n",
       "      <th>Urban Pop %</th>\n",
       "      <th>Urban Population</th>\n",
       "      <th>Country's Share of World Pop</th>\n",
       "      <th>World Population</th>\n",
       "      <th>China Global Rank</th>\n",
       "      <th>Urban index</th>\n",
       "      <th>Migrant index</th>\n",
       "    </tr>\n",
       "  </thead>\n",
       "  <tbody>\n",
       "    <tr>\n",
       "      <th>0</th>\n",
       "      <td>2020</td>\n",
       "      <td>1439323776</td>\n",
       "      <td>0.39</td>\n",
       "      <td>5540090</td>\n",
       "      <td>-348399</td>\n",
       "      <td>38.4</td>\n",
       "      <td>1.69</td>\n",
       "      <td>153</td>\n",
       "      <td>60.8</td>\n",
       "      <td>875075919</td>\n",
       "      <td>18.47</td>\n",
       "      <td>7794798739</td>\n",
       "      <td>1</td>\n",
       "      <td>2.516447</td>\n",
       "      <td>-0.062887</td>\n",
       "    </tr>\n",
       "    <tr>\n",
       "      <th>1</th>\n",
       "      <td>2019</td>\n",
       "      <td>1433783686</td>\n",
       "      <td>0.43</td>\n",
       "      <td>6135900</td>\n",
       "      <td>-348399</td>\n",
       "      <td>37.0</td>\n",
       "      <td>1.65</td>\n",
       "      <td>153</td>\n",
       "      <td>59.7</td>\n",
       "      <td>856409297</td>\n",
       "      <td>18.59</td>\n",
       "      <td>7713468100</td>\n",
       "      <td>1</td>\n",
       "      <td>2.562814</td>\n",
       "      <td>-0.056780</td>\n",
       "    </tr>\n",
       "    <tr>\n",
       "      <th>2</th>\n",
       "      <td>2018</td>\n",
       "      <td>1427647786</td>\n",
       "      <td>0.47</td>\n",
       "      <td>6625995</td>\n",
       "      <td>-348399</td>\n",
       "      <td>37.0</td>\n",
       "      <td>1.65</td>\n",
       "      <td>152</td>\n",
       "      <td>58.6</td>\n",
       "      <td>837022095</td>\n",
       "      <td>18.71</td>\n",
       "      <td>7631091040</td>\n",
       "      <td>1</td>\n",
       "      <td>2.593857</td>\n",
       "      <td>-0.052581</td>\n",
       "    </tr>\n",
       "    <tr>\n",
       "      <th>3</th>\n",
       "      <td>2017</td>\n",
       "      <td>1421021791</td>\n",
       "      <td>0.49</td>\n",
       "      <td>6972440</td>\n",
       "      <td>-348399</td>\n",
       "      <td>37.0</td>\n",
       "      <td>1.65</td>\n",
       "      <td>151</td>\n",
       "      <td>57.5</td>\n",
       "      <td>816957613</td>\n",
       "      <td>18.83</td>\n",
       "      <td>7547858925</td>\n",
       "      <td>1</td>\n",
       "      <td>2.626087</td>\n",
       "      <td>-0.049968</td>\n",
       "    </tr>\n",
       "    <tr>\n",
       "      <th>4</th>\n",
       "      <td>2016</td>\n",
       "      <td>1414049351</td>\n",
       "      <td>0.51</td>\n",
       "      <td>7201481</td>\n",
       "      <td>-348399</td>\n",
       "      <td>37.0</td>\n",
       "      <td>1.65</td>\n",
       "      <td>151</td>\n",
       "      <td>56.3</td>\n",
       "      <td>796289491</td>\n",
       "      <td>18.94</td>\n",
       "      <td>7464022049</td>\n",
       "      <td>1</td>\n",
       "      <td>2.682060</td>\n",
       "      <td>-0.048379</td>\n",
       "    </tr>\n",
       "    <tr>\n",
       "      <th>5</th>\n",
       "      <td>2015</td>\n",
       "      <td>1406847870</td>\n",
       "      <td>0.55</td>\n",
       "      <td>7607451</td>\n",
       "      <td>-310442</td>\n",
       "      <td>36.7</td>\n",
       "      <td>1.64</td>\n",
       "      <td>150</td>\n",
       "      <td>55.1</td>\n",
       "      <td>775352918</td>\n",
       "      <td>19.06</td>\n",
       "      <td>7379797139</td>\n",
       "      <td>1</td>\n",
       "      <td>2.722323</td>\n",
       "      <td>-0.040808</td>\n",
       "    </tr>\n",
       "    <tr>\n",
       "      <th>6</th>\n",
       "      <td>2010</td>\n",
       "      <td>1368810615</td>\n",
       "      <td>0.57</td>\n",
       "      <td>7606847</td>\n",
       "      <td>-435677</td>\n",
       "      <td>35.0</td>\n",
       "      <td>1.62</td>\n",
       "      <td>146</td>\n",
       "      <td>48.9</td>\n",
       "      <td>669353557</td>\n",
       "      <td>19.68</td>\n",
       "      <td>6956823603</td>\n",
       "      <td>1</td>\n",
       "      <td>2.985685</td>\n",
       "      <td>-0.057274</td>\n",
       "    </tr>\n",
       "    <tr>\n",
       "      <th>7</th>\n",
       "      <td>2005</td>\n",
       "      <td>1330776380</td>\n",
       "      <td>0.62</td>\n",
       "      <td>8045123</td>\n",
       "      <td>-393116</td>\n",
       "      <td>32.6</td>\n",
       "      <td>1.61</td>\n",
       "      <td>142</td>\n",
       "      <td>42.2</td>\n",
       "      <td>561983323</td>\n",
       "      <td>20.34</td>\n",
       "      <td>6541907027</td>\n",
       "      <td>1</td>\n",
       "      <td>3.364929</td>\n",
       "      <td>-0.048864</td>\n",
       "    </tr>\n",
       "    <tr>\n",
       "      <th>8</th>\n",
       "      <td>2000</td>\n",
       "      <td>1290550765</td>\n",
       "      <td>0.79</td>\n",
       "      <td>9926046</td>\n",
       "      <td>-76600</td>\n",
       "      <td>30.0</td>\n",
       "      <td>1.62</td>\n",
       "      <td>137</td>\n",
       "      <td>35.7</td>\n",
       "      <td>460377048</td>\n",
       "      <td>21.01</td>\n",
       "      <td>6143493823</td>\n",
       "      <td>1</td>\n",
       "      <td>3.837535</td>\n",
       "      <td>-0.007717</td>\n",
       "    </tr>\n",
       "    <tr>\n",
       "      <th>9</th>\n",
       "      <td>1995</td>\n",
       "      <td>1240920535</td>\n",
       "      <td>1.07</td>\n",
       "      <td>12807372</td>\n",
       "      <td>-155996</td>\n",
       "      <td>27.4</td>\n",
       "      <td>1.83</td>\n",
       "      <td>132</td>\n",
       "      <td>30.9</td>\n",
       "      <td>383901711</td>\n",
       "      <td>21.60</td>\n",
       "      <td>5744212979</td>\n",
       "      <td>1</td>\n",
       "      <td>4.271845</td>\n",
       "      <td>-0.012180</td>\n",
       "    </tr>\n",
       "    <tr>\n",
       "      <th>10</th>\n",
       "      <td>1990</td>\n",
       "      <td>1176883674</td>\n",
       "      <td>1.82</td>\n",
       "      <td>20258863</td>\n",
       "      <td>-86330</td>\n",
       "      <td>24.9</td>\n",
       "      <td>2.73</td>\n",
       "      <td>125</td>\n",
       "      <td>26.3</td>\n",
       "      <td>310022147</td>\n",
       "      <td>22.09</td>\n",
       "      <td>5327231061</td>\n",
       "      <td>1</td>\n",
       "      <td>4.752852</td>\n",
       "      <td>-0.004261</td>\n",
       "    </tr>\n",
       "    <tr>\n",
       "      <th>11</th>\n",
       "      <td>1985</td>\n",
       "      <td>1075589361</td>\n",
       "      <td>1.47</td>\n",
       "      <td>15100025</td>\n",
       "      <td>-40000</td>\n",
       "      <td>23.5</td>\n",
       "      <td>2.52</td>\n",
       "      <td>115</td>\n",
       "      <td>22.8</td>\n",
       "      <td>244946241</td>\n",
       "      <td>22.08</td>\n",
       "      <td>4870921740</td>\n",
       "      <td>1</td>\n",
       "      <td>5.043860</td>\n",
       "      <td>-0.002649</td>\n",
       "    </tr>\n",
       "    <tr>\n",
       "      <th>12</th>\n",
       "      <td>1980</td>\n",
       "      <td>1000089235</td>\n",
       "      <td>1.55</td>\n",
       "      <td>14769670</td>\n",
       "      <td>-9401</td>\n",
       "      <td>21.9</td>\n",
       "      <td>3.01</td>\n",
       "      <td>107</td>\n",
       "      <td>19.2</td>\n",
       "      <td>192392094</td>\n",
       "      <td>22.43</td>\n",
       "      <td>4458003514</td>\n",
       "      <td>1</td>\n",
       "      <td>5.572917</td>\n",
       "      <td>-0.000637</td>\n",
       "    </tr>\n",
       "    <tr>\n",
       "      <th>13</th>\n",
       "      <td>1975</td>\n",
       "      <td>926240885</td>\n",
       "      <td>2.28</td>\n",
       "      <td>19727898</td>\n",
       "      <td>-221096</td>\n",
       "      <td>20.3</td>\n",
       "      <td>4.85</td>\n",
       "      <td>99</td>\n",
       "      <td>17.3</td>\n",
       "      <td>160244444</td>\n",
       "      <td>22.70</td>\n",
       "      <td>4079480606</td>\n",
       "      <td>1</td>\n",
       "      <td>5.722543</td>\n",
       "      <td>-0.011207</td>\n",
       "    </tr>\n",
       "    <tr>\n",
       "      <th>14</th>\n",
       "      <td>1970</td>\n",
       "      <td>827601394</td>\n",
       "      <td>2.70</td>\n",
       "      <td>20676485</td>\n",
       "      <td>-32000</td>\n",
       "      <td>19.3</td>\n",
       "      <td>6.30</td>\n",
       "      <td>88</td>\n",
       "      <td>17.3</td>\n",
       "      <td>143513192</td>\n",
       "      <td>22.36</td>\n",
       "      <td>3700437046</td>\n",
       "      <td>1</td>\n",
       "      <td>5.086705</td>\n",
       "      <td>-0.001548</td>\n",
       "    </tr>\n",
       "    <tr>\n",
       "      <th>15</th>\n",
       "      <td>1965</td>\n",
       "      <td>724218968</td>\n",
       "      <td>1.86</td>\n",
       "      <td>12762182</td>\n",
       "      <td>-225145</td>\n",
       "      <td>19.8</td>\n",
       "      <td>6.15</td>\n",
       "      <td>77</td>\n",
       "      <td>18.0</td>\n",
       "      <td>130684595</td>\n",
       "      <td>21.69</td>\n",
       "      <td>3339583597</td>\n",
       "      <td>1</td>\n",
       "      <td>4.277778</td>\n",
       "      <td>-0.017642</td>\n",
       "    </tr>\n",
       "    <tr>\n",
       "      <th>16</th>\n",
       "      <td>1960</td>\n",
       "      <td>660408056</td>\n",
       "      <td>1.53</td>\n",
       "      <td>9633300</td>\n",
       "      <td>-11900</td>\n",
       "      <td>21.3</td>\n",
       "      <td>5.48</td>\n",
       "      <td>70</td>\n",
       "      <td>16.1</td>\n",
       "      <td>106561743</td>\n",
       "      <td>21.76</td>\n",
       "      <td>3034949748</td>\n",
       "      <td>1</td>\n",
       "      <td>4.347826</td>\n",
       "      <td>-0.001235</td>\n",
       "    </tr>\n",
       "    <tr>\n",
       "      <th>17</th>\n",
       "      <td>1955</td>\n",
       "      <td>612241554</td>\n",
       "      <td>2.00</td>\n",
       "      <td>11564456</td>\n",
       "      <td>-51205</td>\n",
       "      <td>22.2</td>\n",
       "      <td>6.11</td>\n",
       "      <td>65</td>\n",
       "      <td>13.8</td>\n",
       "      <td>84639825</td>\n",
       "      <td>22.08</td>\n",
       "      <td>2773019936</td>\n",
       "      <td>1</td>\n",
       "      <td>4.710145</td>\n",
       "      <td>-0.004428</td>\n",
       "    </tr>\n",
       "  </tbody>\n",
       "</table>\n",
       "</div>"
      ],
      "text/plain": [
       "    Year  Population  Yearly % Change  Yearly Change  Migrants (net)  \\\n",
       "0   2020  1439323776             0.39        5540090         -348399   \n",
       "1   2019  1433783686             0.43        6135900         -348399   \n",
       "2   2018  1427647786             0.47        6625995         -348399   \n",
       "3   2017  1421021791             0.49        6972440         -348399   \n",
       "4   2016  1414049351             0.51        7201481         -348399   \n",
       "5   2015  1406847870             0.55        7607451         -310442   \n",
       "6   2010  1368810615             0.57        7606847         -435677   \n",
       "7   2005  1330776380             0.62        8045123         -393116   \n",
       "8   2000  1290550765             0.79        9926046          -76600   \n",
       "9   1995  1240920535             1.07       12807372         -155996   \n",
       "10  1990  1176883674             1.82       20258863          -86330   \n",
       "11  1985  1075589361             1.47       15100025          -40000   \n",
       "12  1980  1000089235             1.55       14769670           -9401   \n",
       "13  1975   926240885             2.28       19727898         -221096   \n",
       "14  1970   827601394             2.70       20676485          -32000   \n",
       "15  1965   724218968             1.86       12762182         -225145   \n",
       "16  1960   660408056             1.53        9633300          -11900   \n",
       "17  1955   612241554             2.00       11564456          -51205   \n",
       "\n",
       "    Median Age  Fertility Rate  Density (P/Km²)  Urban Pop %  \\\n",
       "0         38.4            1.69              153         60.8   \n",
       "1         37.0            1.65              153         59.7   \n",
       "2         37.0            1.65              152         58.6   \n",
       "3         37.0            1.65              151         57.5   \n",
       "4         37.0            1.65              151         56.3   \n",
       "5         36.7            1.64              150         55.1   \n",
       "6         35.0            1.62              146         48.9   \n",
       "7         32.6            1.61              142         42.2   \n",
       "8         30.0            1.62              137         35.7   \n",
       "9         27.4            1.83              132         30.9   \n",
       "10        24.9            2.73              125         26.3   \n",
       "11        23.5            2.52              115         22.8   \n",
       "12        21.9            3.01              107         19.2   \n",
       "13        20.3            4.85               99         17.3   \n",
       "14        19.3            6.30               88         17.3   \n",
       "15        19.8            6.15               77         18.0   \n",
       "16        21.3            5.48               70         16.1   \n",
       "17        22.2            6.11               65         13.8   \n",
       "\n",
       "    Urban Population  Country's Share of World Pop  World Population  \\\n",
       "0          875075919                         18.47        7794798739   \n",
       "1          856409297                         18.59        7713468100   \n",
       "2          837022095                         18.71        7631091040   \n",
       "3          816957613                         18.83        7547858925   \n",
       "4          796289491                         18.94        7464022049   \n",
       "5          775352918                         19.06        7379797139   \n",
       "6          669353557                         19.68        6956823603   \n",
       "7          561983323                         20.34        6541907027   \n",
       "8          460377048                         21.01        6143493823   \n",
       "9          383901711                         21.60        5744212979   \n",
       "10         310022147                         22.09        5327231061   \n",
       "11         244946241                         22.08        4870921740   \n",
       "12         192392094                         22.43        4458003514   \n",
       "13         160244444                         22.70        4079480606   \n",
       "14         143513192                         22.36        3700437046   \n",
       "15         130684595                         21.69        3339583597   \n",
       "16         106561743                         21.76        3034949748   \n",
       "17          84639825                         22.08        2773019936   \n",
       "\n",
       "    China Global Rank  Urban index  Migrant index  \n",
       "0                   1     2.516447      -0.062887  \n",
       "1                   1     2.562814      -0.056780  \n",
       "2                   1     2.593857      -0.052581  \n",
       "3                   1     2.626087      -0.049968  \n",
       "4                   1     2.682060      -0.048379  \n",
       "5                   1     2.722323      -0.040808  \n",
       "6                   1     2.985685      -0.057274  \n",
       "7                   1     3.364929      -0.048864  \n",
       "8                   1     3.837535      -0.007717  \n",
       "9                   1     4.271845      -0.012180  \n",
       "10                  1     4.752852      -0.004261  \n",
       "11                  1     5.043860      -0.002649  \n",
       "12                  1     5.572917      -0.000637  \n",
       "13                  1     5.722543      -0.011207  \n",
       "14                  1     5.086705      -0.001548  \n",
       "15                  1     4.277778      -0.017642  \n",
       "16                  1     4.347826      -0.001235  \n",
       "17                  1     4.710145      -0.004428  "
      ]
     },
     "execution_count": 27,
     "metadata": {},
     "output_type": "execute_result"
    }
   ],
   "source": [
    "df['Migrant index']=df['Migrants (net)']/df['Yearly Change']\n",
    "df"
   ]
  },
  {
   "cell_type": "markdown",
   "id": "a9b40403",
   "metadata": {},
   "source": [
    "Migrant index is pretty basic. It clearifies the role of migrants in yearly change."
   ]
  },
  {
   "cell_type": "markdown",
   "id": "c3b04474",
   "metadata": {},
   "source": [
    "# Plots"
   ]
  },
  {
   "cell_type": "code",
   "execution_count": 28,
   "id": "e0d4b2bc",
   "metadata": {},
   "outputs": [],
   "source": [
    "import matplotlib.pyplot  as plt \n",
    "from matplotlib import rcParams\n",
    "import seaborn as sns"
   ]
  },
  {
   "cell_type": "code",
   "execution_count": 29,
   "id": "710016c0",
   "metadata": {},
   "outputs": [
    {
     "data": {
      "text/plain": [
       "<AxesSubplot: xlabel='Year', ylabel='Population'>"
      ]
     },
     "execution_count": 29,
     "metadata": {},
     "output_type": "execute_result"
    },
    {
     "data": {
      "image/png": "[encoded data removed]",
      "text/plain": [
       "<Figure size 640x480 with 1 Axes>"
      ]
     },
     "metadata": {},
     "output_type": "display_data"
    }
   ],
   "source": [
    "sns.lineplot(data=df, x='Year', y='Population')"
   ]
  },
  {
   "cell_type": "markdown",
   "id": "c8cad78b",
   "metadata": {},
   "source": [
    "It shows us that population is increasing consistently."
   ]
  },
  {
   "cell_type": "code",
   "execution_count": 30,
   "id": "809ae8df",
   "metadata": {},
   "outputs": [
    {
     "data": {
      "text/plain": [
       "<BarContainer object of 18 artists>"
      ]
     },
     "execution_count": 30,
     "metadata": {},
     "output_type": "execute_result"
    },
    {
     "data": {
      "image/png": "[encoded data removed]",
      "text/plain": [
       "<Figure size 640x480 with 1 Axes>"
      ]
     },
     "metadata": {},
     "output_type": "display_data"
    }
   ],
   "source": [
    "plt.bar(df['Median Age'], df['Population'])"
   ]
  },
  {
   "cell_type": "markdown",
   "id": "e71c3dfe",
   "metadata": {},
   "source": [
    "The bar basicly shows that with population also grows median age"
   ]
  },
  {
   "cell_type": "code",
   "execution_count": 31,
   "id": "e9b4a442",
   "metadata": {},
   "outputs": [
    {
     "data": {
      "text/plain": [
       "<AxesSubplot: xlabel='Year', ylabel='Fertility Rate'>"
      ]
     },
     "execution_count": 31,
     "metadata": {},
     "output_type": "execute_result"
    },
    {
     "data": {
      "image/png": "[encoded data removed]",
      "text/plain": [
       "<Figure size 640x480 with 1 Axes>"
      ]
     },
     "metadata": {},
     "output_type": "display_data"
    }
   ],
   "source": [
    "df.plot.scatter(x='Year', y='Fertility Rate')"
   ]
  },
  {
   "cell_type": "markdown",
   "id": "12e704bc",
   "metadata": {},
   "source": [
    "Graph potrays the plunge of fertility over the years"
   ]
  },
  {
   "cell_type": "markdown",
   "id": "ec3d3fc2",
   "metadata": {},
   "source": [
    "# Observation"
   ]
  },
  {
   "cell_type": "code",
   "execution_count": 32,
   "id": "9f3d0409",
   "metadata": {
    "scrolled": true
   },
   "outputs": [
    {
     "data": {
      "application/vnd.plotly.v1+json": {
       "config": {
        "plotlyServerURL": "https://plot.ly"
       },
       "data": [
        {
         "hovertemplate": "Population=%{x}<br>Migrants (net)=%{y}<br>Density (P/Km²)=%{z}<br>Year=%{marker.color}<extra></extra>",
         "legendgroup": "",
         "marker": {
          "color": [
           2020,
           2019,
           2018,
           2017,
           2016,
           2015,
           2010,
           2005,
           2000,
           1995,
           1990,
           1985,
           1980,
           1975,
           1970,
           1965,
           1960,
           1955
          ],
          "coloraxis": "coloraxis",
          "symbol": "circle"
         },
         "mode": "markers",
         "name": "",
         "scene": "scene",
         "showlegend": false,
         "type": "scatter3d",
         "x": [
          1439323776,
          1433783686,
          1427647786,
          1421021791,
          1414049351,
          1406847870,
          1368810615,
          1330776380,
          1290550765,
          1240920535,
          1176883674,
          1075589361,
          1000089235,
          926240885,
          827601394,
          724218968,
          660408056,
          612241554
         ],
         "y": [
          -348399,
          -348399,
          -348399,
          -348399,
          -348399,
          -310442,
          -435677,
          -393116,
          -76600,
          -155996,
          -86330,
          -40000,
          -9401,
          -221096,
          -32000,
          -225145,
          -11900,
          -51205
         ],
         "z": [
          153,
          153,
          152,
          151,
          151,
          150,
          146,
          142,
          137,
          132,
          125,
          115,
          107,
          99,
          88,
          77,
          70,
          65
         ]
        }
       ],
       "layout": {
        "coloraxis": {
         "colorbar": {
          "title": {
           "text": "Year"
          }
         },
         "colorscale": [
          [
           0,
           "#0d0887"
          ],
          [
           0.1111111111111111,
           "#46039f"
          ],
          [
           0.2222222222222222,
           "#7201a8"
          ],
          [
           0.3333333333333333,
           "#9c179e"
          ],
          [
           0.4444444444444444,
           "#bd3786"
          ],
          [
           0.5555555555555556,
           "#d8576b"
          ],
          [
           0.6666666666666666,
           "#ed7953"
          ],
          [
           0.7777777777777778,
           "#fb9f3a"
          ],
          [
           0.8888888888888888,
           "#fdca26"
          ],
          [
           1,
           "#f0f921"
          ]
         ]
        },
        "legend": {
         "tracegroupgap": 0
        },
        "margin": {
         "t": 60
        },
        "scene": {
         "domain": {
          "x": [
           0,
           1
          ],
          "y": [
           0,
           1
          ]
         },
         "xaxis": {
          "title": {
           "text": "Population"
          }
         },
         "yaxis": {
          "title": {
           "text": "Migrants (net)"
          }
         },
         "zaxis": {
          "title": {
           "text": "Density (P/Km²)"
          }
         }
        },
        "template": {
         "data": {
          "bar": [
           {
            "error_x": {
             "color": "#2a3f5f"
            },
            "error_y": {
             "color": "#2a3f5f"
            },
            "marker": {
             "line": {
              "color": "#E5ECF6",
              "width": 0.5
             },
             "pattern": {
              "fillmode": "overlay",
              "size": 10,
              "solidity": 0.2
             }
            },
            "type": "bar"
           }
          ],
          "barpolar": [
           {
            "marker": {
             "line": {
              "color": "#E5ECF6",
              "width": 0.5
             },
             "pattern": {
              "fillmode": "overlay",
              "size": 10,
              "solidity": 0.2
             }
            },
            "type": "barpolar"
           }
          ],
          "carpet": [
           {
            "aaxis": {
             "endlinecolor": "#2a3f5f",
             "gridcolor": "white",
             "linecolor": "white",
             "minorgridcolor": "white",
             "startlinecolor": "#2a3f5f"
            },
            "baxis": {
             "endlinecolor": "#2a3f5f",
             "gridcolor": "white",
             "linecolor": "white",
             "minorgridcolor": "white",
             "startlinecolor": "#2a3f5f"
            },
            "type": "carpet"
           }
          ],
          "choropleth": [
           {
            "colorbar": {
             "outlinewidth": 0,
             "ticks": ""
            },
            "type": "choropleth"
           }
          ],
          "contour": [
           {
            "colorbar": {
             "outlinewidth": 0,
             "ticks": ""
            },
            "colorscale": [
             [
              0,
              "#0d0887"
             ],
             [
              0.1111111111111111,
              "#46039f"
             ],
             [
              0.2222222222222222,
              "#7201a8"
             ],
             [
              0.3333333333333333,
              "#9c179e"
             ],
             [
              0.4444444444444444,
              "#bd3786"
             ],
             [
              0.5555555555555556,
              "#d8576b"
             ],
             [
              0.6666666666666666,
              "#ed7953"
             ],
             [
              0.7777777777777778,
              "#fb9f3a"
             ],
             [
              0.8888888888888888,
              "#fdca26"
             ],
             [
              1,
              "#f0f921"
             ]
            ],
            "type": "contour"
           }
          ],
          "contourcarpet": [
           {
            "colorbar": {
             "outlinewidth": 0,
             "ticks": ""
            },
            "type": "contourcarpet"
           }
          ],
          "heatmap": [
           {
            "colorbar": {
             "outlinewidth": 0,
             "ticks": ""
            },
            "colorscale": [
             [
              0,
              "#0d0887"
             ],
             [
              0.1111111111111111,
              "#46039f"
             ],
             [
              0.2222222222222222,
              "#7201a8"
             ],
             [
              0.3333333333333333,
              "#9c179e"
             ],
             [
              0.4444444444444444,
              "#bd3786"
             ],
             [
              0.5555555555555556,
              "#d8576b"
             ],
             [
              0.6666666666666666,
              "#ed7953"
             ],
             [
              0.7777777777777778,
              "#fb9f3a"
             ],
             [
              0.8888888888888888,
              "#fdca26"
             ],
             [
              1,
              "#f0f921"
             ]
            ],
            "type": "heatmap"
           }
          ],
          "heatmapgl": [
           {
            "colorbar": {
             "outlinewidth": 0,
             "ticks": ""
            },
            "colorscale": [
             [
              0,
              "#0d0887"
             ],
             [
              0.1111111111111111,
              "#46039f"
             ],
             [
              0.2222222222222222,
              "#7201a8"
             ],
             [
              0.3333333333333333,
              "#9c179e"
             ],
             [
              0.4444444444444444,
              "#bd3786"
             ],
             [
              0.5555555555555556,
              "#d8576b"
             ],
             [
              0.6666666666666666,
              "#ed7953"
             ],
             [
              0.7777777777777778,
              "#fb9f3a"
             ],
             [
              0.8888888888888888,
              "#fdca26"
             ],
             [
              1,
              "#f0f921"
             ]
            ],
            "type": "heatmapgl"
           }
          ],
          "histogram": [
           {
            "marker": {
             "pattern": {
              "fillmode": "overlay",
              "size": 10,
              "solidity": 0.2
             }
            },
            "type": "histogram"
           }
          ],
          "histogram2d": [
           {
            "colorbar": {
             "outlinewidth": 0,
             "ticks": ""
            },
            "colorscale": [
             [
              0,
              "#0d0887"
             ],
             [
              0.1111111111111111,
              "#46039f"
             ],
             [
              0.2222222222222222,
              "#7201a8"
             ],
             [
              0.3333333333333333,
              "#9c179e"
             ],
             [
              0.4444444444444444,
              "#bd3786"
             ],
             [
              0.5555555555555556,
              "#d8576b"
             ],
             [
              0.6666666666666666,
              "#ed7953"
             ],
             [
              0.7777777777777778,
              "#fb9f3a"
             ],
             [
              0.8888888888888888,
              "#fdca26"
             ],
             [
              1,
              "#f0f921"
             ]
            ],
            "type": "histogram2d"
           }
          ],
          "histogram2dcontour": [
           {
            "colorbar": {
             "outlinewidth": 0,
             "ticks": ""
            },
            "colorscale": [
             [
              0,
              "#0d0887"
             ],
             [
              0.1111111111111111,
              "#46039f"
             ],
             [
              0.2222222222222222,
              "#7201a8"
             ],
             [
              0.3333333333333333,
              "#9c179e"
             ],
             [
              0.4444444444444444,
              "#bd3786"
             ],
             [
              0.5555555555555556,
              "#d8576b"
             ],
             [
              0.6666666666666666,
              "#ed7953"
             ],
             [
              0.7777777777777778,
              "#fb9f3a"
             ],
             [
              0.8888888888888888,
              "#fdca26"
             ],
             [
              1,
              "#f0f921"
             ]
            ],
            "type": "histogram2dcontour"
           }
          ],
          "mesh3d": [
           {
            "colorbar": {
             "outlinewidth": 0,
             "ticks": ""
            },
            "type": "mesh3d"
           }
          ],
          "parcoords": [
           {
            "line": {
             "colorbar": {
              "outlinewidth": 0,
              "ticks": ""
             }
            },
            "type": "parcoords"
           }
          ],
          "pie": [
           {
            "automargin": true,
            "type": "pie"
           }
          ],
          "scatter": [
           {
            "fillpattern": {
             "fillmode": "overlay",
             "size": 10,
             "solidity": 0.2
            },
            "type": "scatter"
           }
          ],
          "scatter3d": [
           {
            "line": {
             "colorbar": {
              "outlinewidth": 0,
              "ticks": ""
             }
            },
            "marker": {
             "colorbar": {
              "outlinewidth": 0,
              "ticks": ""
             }
            },
            "type": "scatter3d"
           }
          ],
          "scattercarpet": [
           {
            "marker": {
             "colorbar": {
              "outlinewidth": 0,
              "ticks": ""
             }
            },
            "type": "scattercarpet"
           }
          ],
          "scattergeo": [
           {
            "marker": {
             "colorbar": {
              "outlinewidth": 0,
              "ticks": ""
             }
            },
            "type": "scattergeo"
           }
          ],
          "scattergl": [
           {
            "marker": {
             "colorbar": {
              "outlinewidth": 0,
              "ticks": ""
             }
            },
            "type": "scattergl"
           }
          ],
          "scattermapbox": [
           {
            "marker": {
             "colorbar": {
              "outlinewidth": 0,
              "ticks": ""
             }
            },
            "type": "scattermapbox"
           }
          ],
          "scatterpolar": [
           {
            "marker": {
             "colorbar": {
              "outlinewidth": 0,
              "ticks": ""
             }
            },
            "type": "scatterpolar"
           }
          ],
          "scatterpolargl": [
           {
            "marker": {
             "colorbar": {
              "outlinewidth": 0,
              "ticks": ""
             }
            },
            "type": "scatterpolargl"
           }
          ],
          "scatterternary": [
           {
            "marker": {
             "colorbar": {
              "outlinewidth": 0,
              "ticks": ""
             }
            },
            "type": "scatterternary"
           }
          ],
          "surface": [
           {
            "colorbar": {
             "outlinewidth": 0,
             "ticks": ""
            },
            "colorscale": [
             [
              0,
              "#0d0887"
             ],
             [
              0.1111111111111111,
              "#46039f"
             ],
             [
              0.2222222222222222,
              "#7201a8"
             ],
             [
              0.3333333333333333,
              "#9c179e"
             ],
             [
              0.4444444444444444,
              "#bd3786"
             ],
             [
              0.5555555555555556,
              "#d8576b"
             ],
             [
              0.6666666666666666,
              "#ed7953"
             ],
             [
              0.7777777777777778,
              "#fb9f3a"
             ],
             [
              0.8888888888888888,
              "#fdca26"
             ],
             [
              1,
              "#f0f921"
             ]
            ],
            "type": "surface"
           }
          ],
          "table": [
           {
            "cells": {
             "fill": {
              "color": "#EBF0F8"
             },
             "line": {
              "color": "white"
             }
            },
            "header": {
             "fill": {
              "color": "#C8D4E3"
             },
             "line": {
              "color": "white"
             }
            },
            "type": "table"
           }
          ]
         },
         "layout": {
          "annotationdefaults": {
           "arrowcolor": "#2a3f5f",
           "arrowhead": 0,
           "arrowwidth": 1
          },
          "autotypenumbers": "strict",
          "coloraxis": {
           "colorbar": {
            "outlinewidth": 0,
            "ticks": ""
           }
          },
          "colorscale": {
           "diverging": [
            [
             0,
             "#8e0152"
            ],
            [
             0.1,
             "#c51b7d"
            ],
            [
             0.2,
             "#de77ae"
            ],
            [
             0.3,
             "#f1b6da"
            ],
            [
             0.4,
             "#fde0ef"
            ],
            [
             0.5,
             "#f7f7f7"
            ],
            [
             0.6,
             "#e6f5d0"
            ],
            [
             0.7,
             "#b8e186"
            ],
            [
             0.8,
             "#7fbc41"
            ],
            [
             0.9,
             "#4d9221"
            ],
            [
             1,
             "#276419"
            ]
           ],
           "sequential": [
            [
             0,
             "#0d0887"
            ],
            [
             0.1111111111111111,
             "#46039f"
            ],
            [
             0.2222222222222222,
             "#7201a8"
            ],
            [
             0.3333333333333333,
             "#9c179e"
            ],
            [
             0.4444444444444444,
             "#bd3786"
            ],
            [
             0.5555555555555556,
             "#d8576b"
            ],
            [
             0.6666666666666666,
             "#ed7953"
            ],
            [
             0.7777777777777778,
             "#fb9f3a"
            ],
            [
             0.8888888888888888,
             "#fdca26"
            ],
            [
             1,
             "#f0f921"
            ]
           ],
           "sequentialminus": [
            [
             0,
             "#0d0887"
            ],
            [
             0.1111111111111111,
             "#46039f"
            ],
            [
             0.2222222222222222,
             "#7201a8"
            ],
            [
             0.3333333333333333,
             "#9c179e"
            ],
            [
             0.4444444444444444,
             "#bd3786"
            ],
            [
             0.5555555555555556,
             "#d8576b"
            ],
            [
             0.6666666666666666,
             "#ed7953"
            ],
            [
             0.7777777777777778,
             "#fb9f3a"
            ],
            [
             0.8888888888888888,
             "#fdca26"
            ],
            [
             1,
             "#f0f921"
            ]
           ]
          },
          "colorway": [
           "#636efa",
           "#EF553B",
           "#00cc96",
           "#ab63fa",
           "#FFA15A",
           "#19d3f3",
           "#FF6692",
           "#B6E880",
           "#FF97FF",
           "#FECB52"
          ],
          "font": {
           "color": "#2a3f5f"
          },
          "geo": {
           "bgcolor": "white",
           "lakecolor": "white",
           "landcolor": "#E5ECF6",
           "showlakes": true,
           "showland": true,
           "subunitcolor": "white"
          },
          "hoverlabel": {
           "align": "left"
          },
          "hovermode": "closest",
          "mapbox": {
           "style": "light"
          },
          "paper_bgcolor": "white",
          "plot_bgcolor": "#E5ECF6",
          "polar": {
           "angularaxis": {
            "gridcolor": "white",
            "linecolor": "white",
            "ticks": ""
           },
           "bgcolor": "#E5ECF6",
           "radialaxis": {
            "gridcolor": "white",
            "linecolor": "white",
            "ticks": ""
           }
          },
          "scene": {
           "xaxis": {
            "backgroundcolor": "#E5ECF6",
            "gridcolor": "white",
            "gridwidth": 2,
            "linecolor": "white",
            "showbackground": true,
            "ticks": "",
            "zerolinecolor": "white"
           },
           "yaxis": {
            "backgroundcolor": "#E5ECF6",
            "gridcolor": "white",
            "gridwidth": 2,
            "linecolor": "white",
            "showbackground": true,
            "ticks": "",
            "zerolinecolor": "white"
           },
           "zaxis": {
            "backgroundcolor": "#E5ECF6",
            "gridcolor": "white",
            "gridwidth": 2,
            "linecolor": "white",
            "showbackground": true,
            "ticks": "",
            "zerolinecolor": "white"
           }
          },
          "shapedefaults": {
           "line": {
            "color": "#2a3f5f"
           }
          },
          "ternary": {
           "aaxis": {
            "gridcolor": "white",
            "linecolor": "white",
            "ticks": ""
           },
           "baxis": {
            "gridcolor": "white",
            "linecolor": "white",
            "ticks": ""
           },
           "bgcolor": "#E5ECF6",
           "caxis": {
            "gridcolor": "white",
            "linecolor": "white",
            "ticks": ""
           }
          },
          "title": {
           "x": 0.05
          },
          "xaxis": {
           "automargin": true,
           "gridcolor": "white",
           "linecolor": "white",
           "ticks": "",
           "title": {
            "standoff": 15
           },
           "zerolinecolor": "white",
           "zerolinewidth": 2
          },
          "yaxis": {
           "automargin": true,
           "gridcolor": "white",
           "linecolor": "white",
           "ticks": "",
           "title": {
            "standoff": 15
           },
           "zerolinecolor": "white",
           "zerolinewidth": 2
          }
         }
        }
       }
      },
      "text/html": [
       "<div>                            <div id=\"973b288b-d519-46be-bef1-183df9c690c0\" class=\"plotly-graph-div\" style=\"height:525px; width:100%;\"></div>            <script type=\"text/javascript\">                require([\"plotly\"], function(Plotly) {                    window.PLOTLYENV=window.PLOTLYENV || {};                                    if (document.getElementById(\"973b288b-d519-46be-bef1-183df9c690c0\")) {                    Plotly.newPlot(                        \"973b288b-d519-46be-bef1-183df9c690c0\",                        [{\"hovertemplate\":\"Population=%{x}<br>Migrants (net)=%{y}<br>Density (P/Km\\u00b2)=%{z}<br>Year=%{marker.color}<extra></extra>\",\"legendgroup\":\"\",\"marker\":{\"color\":[2020,2019,2018,2017,2016,2015,2010,2005,2000,1995,1990,1985,1980,1975,1970,1965,1960,1955],\"coloraxis\":\"coloraxis\",\"symbol\":\"circle\"},\"mode\":\"markers\",\"name\":\"\",\"scene\":\"scene\",\"showlegend\":false,\"x\":[1439323776,1433783686,1427647786,1421021791,1414049351,1406847870,1368810615,1330776380,1290550765,1240920535,1176883674,1075589361,1000089235,926240885,827601394,724218968,660408056,612241554],\"y\":[-348399,-348399,-348399,-348399,-348399,-310442,-435677,-393116,-76600,-155996,-86330,-40000,-9401,-221096,-32000,-225145,-11900,-51205],\"z\":[153,153,152,151,151,150,146,142,137,132,125,115,107,99,88,77,70,65],\"type\":\"scatter3d\"}],                        {\"template\":{\"data\":{\"histogram2dcontour\":[{\"type\":\"histogram2dcontour\",\"colorbar\":{\"outlinewidth\":0,\"ticks\":\"\"},\"colorscale\":[[0.0,\"#0d0887\"],[0.1111111111111111,\"#46039f\"],[0.2222222222222222,\"#7201a8\"],[0.3333333333333333,\"#9c179e\"],[0.4444444444444444,\"#bd3786\"],[0.5555555555555556,\"#d8576b\"],[0.6666666666666666,\"#ed7953\"],[0.7777777777777778,\"#fb9f3a\"],[0.8888888888888888,\"#fdca26\"],[1.0,\"#f0f921\"]]}],\"choropleth\":[{\"type\":\"choropleth\",\"colorbar\":{\"outlinewidth\":0,\"ticks\":\"\"}}],\"histogram2d\":[{\"type\":\"histogram2d\",\"colorbar\":{\"outlinewidth\":0,\"ticks\":\"\"},\"colorscale\":[[0.0,\"#0d0887\"],[0.1111111111111111,\"#46039f\"],[0.2222222222222222,\"#7201a8\"],[0.3333333333333333,\"#9c179e\"],[0.4444444444444444,\"#bd3786\"],[0.5555555555555556,\"#d8576b\"],[0.6666666666666666,\"#ed7953\"],[0.7777777777777778,\"#fb9f3a\"],[0.8888888888888888,\"#fdca26\"],[1.0,\"#f0f921\"]]}],\"heatmap\":[{\"type\":\"heatmap\",\"colorbar\":{\"outlinewidth\":0,\"ticks\":\"\"},\"colorscale\":[[0.0,\"#0d0887\"],[0.1111111111111111,\"#46039f\"],[0.2222222222222222,\"#7201a8\"],[0.3333333333333333,\"#9c179e\"],[0.4444444444444444,\"#bd3786\"],[0.5555555555555556,\"#d8576b\"],[0.6666666666666666,\"#ed7953\"],[0.7777777777777778,\"#fb9f3a\"],[0.8888888888888888,\"#fdca26\"],[1.0,\"#f0f921\"]]}],\"heatmapgl\":[{\"type\":\"heatmapgl\",\"colorbar\":{\"outlinewidth\":0,\"ticks\":\"\"},\"colorscale\":[[0.0,\"#0d0887\"],[0.1111111111111111,\"#46039f\"],[0.2222222222222222,\"#7201a8\"],[0.3333333333333333,\"#9c179e\"],[0.4444444444444444,\"#bd3786\"],[0.5555555555555556,\"#d8576b\"],[0.6666666666666666,\"#ed7953\"],[0.7777777777777778,\"#fb9f3a\"],[0.8888888888888888,\"#fdca26\"],[1.0,\"#f0f921\"]]}],\"contourcarpet\":[{\"type\":\"contourcarpet\",\"colorbar\":{\"outlinewidth\":0,\"ticks\":\"\"}}],\"contour\":[{\"type\":\"contour\",\"colorbar\":{\"outlinewidth\":0,\"ticks\":\"\"},\"colorscale\":[[0.0,\"#0d0887\"],[0.1111111111111111,\"#46039f\"],[0.2222222222222222,\"#7201a8\"],[0.3333333333333333,\"#9c179e\"],[0.4444444444444444,\"#bd3786\"],[0.5555555555555556,\"#d8576b\"],[0.6666666666666666,\"#ed7953\"],[0.7777777777777778,\"#fb9f3a\"],[0.8888888888888888,\"#fdca26\"],[1.0,\"#f0f921\"]]}],\"surface\":[{\"type\":\"surface\",\"colorbar\":{\"outlinewidth\":0,\"ticks\":\"\"},\"colorscale\":[[0.0,\"#0d0887\"],[0.1111111111111111,\"#46039f\"],[0.2222222222222222,\"#7201a8\"],[0.3333333333333333,\"#9c179e\"],[0.4444444444444444,\"#bd3786\"],[0.5555555555555556,\"#d8576b\"],[0.6666666666666666,\"#ed7953\"],[0.7777777777777778,\"#fb9f3a\"],[0.8888888888888888,\"#fdca26\"],[1.0,\"#f0f921\"]]}],\"mesh3d\":[{\"type\":\"mesh3d\",\"colorbar\":{\"outlinewidth\":0,\"ticks\":\"\"}}],\"scatter\":[{\"fillpattern\":{\"fillmode\":\"overlay\",\"size\":10,\"solidity\":0.2},\"type\":\"scatter\"}],\"parcoords\":[{\"type\":\"parcoords\",\"line\":{\"colorbar\":{\"outlinewidth\":0,\"ticks\":\"\"}}}],\"scatterpolargl\":[{\"type\":\"scatterpolargl\",\"marker\":{\"colorbar\":{\"outlinewidth\":0,\"ticks\":\"\"}}}],\"bar\":[{\"error_x\":{\"color\":\"#2a3f5f\"},\"error_y\":{\"color\":\"#2a3f5f\"},\"marker\":{\"line\":{\"color\":\"#E5ECF6\",\"width\":0.5},\"pattern\":{\"fillmode\":\"overlay\",\"size\":10,\"solidity\":0.2}},\"type\":\"bar\"}],\"scattergeo\":[{\"type\":\"scattergeo\",\"marker\":{\"colorbar\":{\"outlinewidth\":0,\"ticks\":\"\"}}}],\"scatterpolar\":[{\"type\":\"scatterpolar\",\"marker\":{\"colorbar\":{\"outlinewidth\":0,\"ticks\":\"\"}}}],\"histogram\":[{\"marker\":{\"pattern\":{\"fillmode\":\"overlay\",\"size\":10,\"solidity\":0.2}},\"type\":\"histogram\"}],\"scattergl\":[{\"type\":\"scattergl\",\"marker\":{\"colorbar\":{\"outlinewidth\":0,\"ticks\":\"\"}}}],\"scatter3d\":[{\"type\":\"scatter3d\",\"line\":{\"colorbar\":{\"outlinewidth\":0,\"ticks\":\"\"}},\"marker\":{\"colorbar\":{\"outlinewidth\":0,\"ticks\":\"\"}}}],\"scattermapbox\":[{\"type\":\"scattermapbox\",\"marker\":{\"colorbar\":{\"outlinewidth\":0,\"ticks\":\"\"}}}],\"scatterternary\":[{\"type\":\"scatterternary\",\"marker\":{\"colorbar\":{\"outlinewidth\":0,\"ticks\":\"\"}}}],\"scattercarpet\":[{\"type\":\"scattercarpet\",\"marker\":{\"colorbar\":{\"outlinewidth\":0,\"ticks\":\"\"}}}],\"carpet\":[{\"aaxis\":{\"endlinecolor\":\"#2a3f5f\",\"gridcolor\":\"white\",\"linecolor\":\"white\",\"minorgridcolor\":\"white\",\"startlinecolor\":\"#2a3f5f\"},\"baxis\":{\"endlinecolor\":\"#2a3f5f\",\"gridcolor\":\"white\",\"linecolor\":\"white\",\"minorgridcolor\":\"white\",\"startlinecolor\":\"#2a3f5f\"},\"type\":\"carpet\"}],\"table\":[{\"cells\":{\"fill\":{\"color\":\"#EBF0F8\"},\"line\":{\"color\":\"white\"}},\"header\":{\"fill\":{\"color\":\"#C8D4E3\"},\"line\":{\"color\":\"white\"}},\"type\":\"table\"}],\"barpolar\":[{\"marker\":{\"line\":{\"color\":\"#E5ECF6\",\"width\":0.5},\"pattern\":{\"fillmode\":\"overlay\",\"size\":10,\"solidity\":0.2}},\"type\":\"barpolar\"}],\"pie\":[{\"automargin\":true,\"type\":\"pie\"}]},\"layout\":{\"autotypenumbers\":\"strict\",\"colorway\":[\"#636efa\",\"#EF553B\",\"#00cc96\",\"#ab63fa\",\"#FFA15A\",\"#19d3f3\",\"#FF6692\",\"#B6E880\",\"#FF97FF\",\"#FECB52\"],\"font\":{\"color\":\"#2a3f5f\"},\"hovermode\":\"closest\",\"hoverlabel\":{\"align\":\"left\"},\"paper_bgcolor\":\"white\",\"plot_bgcolor\":\"#E5ECF6\",\"polar\":{\"bgcolor\":\"#E5ECF6\",\"angularaxis\":{\"gridcolor\":\"white\",\"linecolor\":\"white\",\"ticks\":\"\"},\"radialaxis\":{\"gridcolor\":\"white\",\"linecolor\":\"white\",\"ticks\":\"\"}},\"ternary\":{\"bgcolor\":\"#E5ECF6\",\"aaxis\":{\"gridcolor\":\"white\",\"linecolor\":\"white\",\"ticks\":\"\"},\"baxis\":{\"gridcolor\":\"white\",\"linecolor\":\"white\",\"ticks\":\"\"},\"caxis\":{\"gridcolor\":\"white\",\"linecolor\":\"white\",\"ticks\":\"\"}},\"coloraxis\":{\"colorbar\":{\"outlinewidth\":0,\"ticks\":\"\"}},\"colorscale\":{\"sequential\":[[0.0,\"#0d0887\"],[0.1111111111111111,\"#46039f\"],[0.2222222222222222,\"#7201a8\"],[0.3333333333333333,\"#9c179e\"],[0.4444444444444444,\"#bd3786\"],[0.5555555555555556,\"#d8576b\"],[0.6666666666666666,\"#ed7953\"],[0.7777777777777778,\"#fb9f3a\"],[0.8888888888888888,\"#fdca26\"],[1.0,\"#f0f921\"]],\"sequentialminus\":[[0.0,\"#0d0887\"],[0.1111111111111111,\"#46039f\"],[0.2222222222222222,\"#7201a8\"],[0.3333333333333333,\"#9c179e\"],[0.4444444444444444,\"#bd3786\"],[0.5555555555555556,\"#d8576b\"],[0.6666666666666666,\"#ed7953\"],[0.7777777777777778,\"#fb9f3a\"],[0.8888888888888888,\"#fdca26\"],[1.0,\"#f0f921\"]],\"diverging\":[[0,\"#8e0152\"],[0.1,\"#c51b7d\"],[0.2,\"#de77ae\"],[0.3,\"#f1b6da\"],[0.4,\"#fde0ef\"],[0.5,\"#f7f7f7\"],[0.6,\"#e6f5d0\"],[0.7,\"#b8e186\"],[0.8,\"#7fbc41\"],[0.9,\"#4d9221\"],[1,\"#276419\"]]},\"xaxis\":{\"gridcolor\":\"white\",\"linecolor\":\"white\",\"ticks\":\"\",\"title\":{\"standoff\":15},\"zerolinecolor\":\"white\",\"automargin\":true,\"zerolinewidth\":2},\"yaxis\":{\"gridcolor\":\"white\",\"linecolor\":\"white\",\"ticks\":\"\",\"title\":{\"standoff\":15},\"zerolinecolor\":\"white\",\"automargin\":true,\"zerolinewidth\":2},\"scene\":{\"xaxis\":{\"backgroundcolor\":\"#E5ECF6\",\"gridcolor\":\"white\",\"linecolor\":\"white\",\"showbackground\":true,\"ticks\":\"\",\"zerolinecolor\":\"white\",\"gridwidth\":2},\"yaxis\":{\"backgroundcolor\":\"#E5ECF6\",\"gridcolor\":\"white\",\"linecolor\":\"white\",\"showbackground\":true,\"ticks\":\"\",\"zerolinecolor\":\"white\",\"gridwidth\":2},\"zaxis\":{\"backgroundcolor\":\"#E5ECF6\",\"gridcolor\":\"white\",\"linecolor\":\"white\",\"showbackground\":true,\"ticks\":\"\",\"zerolinecolor\":\"white\",\"gridwidth\":2}},\"shapedefaults\":{\"line\":{\"color\":\"#2a3f5f\"}},\"annotationdefaults\":{\"arrowcolor\":\"#2a3f5f\",\"arrowhead\":0,\"arrowwidth\":1},\"geo\":{\"bgcolor\":\"white\",\"landcolor\":\"#E5ECF6\",\"subunitcolor\":\"white\",\"showland\":true,\"showlakes\":true,\"lakecolor\":\"white\"},\"title\":{\"x\":0.05},\"mapbox\":{\"style\":\"light\"}}},\"scene\":{\"domain\":{\"x\":[0.0,1.0],\"y\":[0.0,1.0]},\"xaxis\":{\"title\":{\"text\":\"Population\"}},\"yaxis\":{\"title\":{\"text\":\"Migrants (net)\"}},\"zaxis\":{\"title\":{\"text\":\"Density (P/Km\\u00b2)\"}}},\"coloraxis\":{\"colorbar\":{\"title\":{\"text\":\"Year\"}},\"colorscale\":[[0.0,\"#0d0887\"],[0.1111111111111111,\"#46039f\"],[0.2222222222222222,\"#7201a8\"],[0.3333333333333333,\"#9c179e\"],[0.4444444444444444,\"#bd3786\"],[0.5555555555555556,\"#d8576b\"],[0.6666666666666666,\"#ed7953\"],[0.7777777777777778,\"#fb9f3a\"],[0.8888888888888888,\"#fdca26\"],[1.0,\"#f0f921\"]]},\"legend\":{\"tracegroupgap\":0},\"margin\":{\"t\":60}},                        {\"responsive\": true}                    ).then(function(){\n",
       "                            \n",
       "var gd = document.getElementById('973b288b-d519-46be-bef1-183df9c690c0');\n",
       "var x = new MutationObserver(function (mutations, observer) {{\n",
       "        var display = window.getComputedStyle(gd).display;\n",
       "        if (!display || display === 'none') {{\n",
       "            console.log([gd, 'removed!']);\n",
       "            Plotly.purge(gd);\n",
       "            observer.disconnect();\n",
       "        }}\n",
       "}});\n",
       "\n",
       "// Listen for the removal of the full notebook cells\n",
       "var notebookContainer = gd.closest('#notebook-container');\n",
       "if (notebookContainer) {{\n",
       "    x.observe(notebookContainer, {childList: true});\n",
       "}}\n",
       "\n",
       "// Listen for the clearing of the current output cell\n",
       "var outputEl = gd.closest('.output');\n",
       "if (outputEl) {{\n",
       "    x.observe(outputEl, {childList: true});\n",
       "}}\n",
       "\n",
       "                        })                };                });            </script>        </div>"
      ]
     },
     "metadata": {},
     "output_type": "display_data"
    }
   ],
   "source": [
    "import plotly.express as px\n",
    "fig = px.scatter_3d(df, x='Population', y='Migrants (net)', z='Density (P/Km²)', color='Year')\n",
    "fig.show()"
   ]
  },
  {
   "cell_type": "markdown",
   "id": "91d11139",
   "metadata": {},
   "source": [
    "Well, the graph emphasizes the population as density through the years increased monotonicly. \n",
    "But the number of migrants (net) is chaotic on one hand. On the other it is stable as it is not a great negative number.\n",
    "That in opinion states about stability in growth of the country."
   ]
  },
  {
   "cell_type": "code",
   "execution_count": 33,
   "id": "6d5b6450",
   "metadata": {},
   "outputs": [
    {
     "data": {
      "image/png": "[encoded data removed]",
      "text/plain": [
       "<Figure size 640x480 with 1 Axes>"
      ]
     },
     "metadata": {},
     "output_type": "display_data"
    }
   ],
   "source": [
    "plt.scatter(x=df['Year'], y=df['Population'], color='red')\n",
    "\n",
    "plt.scatter(x=df['Year'], y=df['Urban Population'], color='blue')\n",
    "plt.show()\n"
   ]
  },
  {
   "cell_type": "markdown",
   "id": "ca1bc43a",
   "metadata": {},
   "source": [
    "From the graph we may observe that population of China's line is concave meanwhile urban population is convex. It tells us that The growth of growth of urban population is positive. it is not the case about the growth of growth of population in whole."
   ]
  },
  {
   "cell_type": "markdown",
   "id": "12b3992c",
   "metadata": {},
   "source": [
    "# Hypothesis"
   ]
  },
  {
   "cell_type": "markdown",
   "id": "531511c0",
   "metadata": {},
   "source": [
    "Well, China in 1980 implemented the policy - \"One family - One Child\". \n",
    "As we observe the red line become concave right at that period. My assumption that the policy is the reason. \n",
    "At the same time the growing of urban population expirience an unbelievable splash, which might be alse the consequence of the policy\n",
    "Because if you have one or no child it is much easier to move to the town and a person does really feel the home thing.\n",
    "But after the end of policy the concavity of red does not change. I assump, that after the years of policy,\n",
    "Chinese people understood the importance of growing a well-bred person which requires finance and time.\n",
    "About a milion dollar for a child."
   ]
  }
 ],
 "metadata": {
  "kernelspec": {
   "display_name": "Python 3 (ipykernel)",
   "language": "python",
   "name": "python3"
  },
  "language_info": {
   "codemirror_mode": {
    "name": "ipython",
    "version": 3
   },
   "file_extension": ".py",
   "mimetype": "text/x-python",
   "name": "python",
   "nbconvert_exporter": "python",
   "pygments_lexer": "ipython3",
   "version": "3.9.1"
  }
 },
 "nbformat": 4,
 "nbformat_minor": 5
}
